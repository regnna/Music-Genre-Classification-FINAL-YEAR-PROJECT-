{
 "cells": [
  {
   "cell_type": "code",
   "execution_count": 1,
   "id": "7f3ba585",
   "metadata": {
    "_cell_guid": "b1076dfc-b9ad-4769-8c92-a6c4dae69d19",
    "_uuid": "8f2839f25d086af736a60e9eeb907d3b93b6e0e5",
    "execution": {
     "iopub.execute_input": "2023-11-26T10:38:03.398952Z",
     "iopub.status.busy": "2023-11-26T10:38:03.398528Z",
     "iopub.status.idle": "2023-11-26T10:38:10.603464Z",
     "shell.execute_reply": "2023-11-26T10:38:10.602547Z"
    },
    "papermill": {
     "duration": 7.216828,
     "end_time": "2023-11-26T10:38:10.606015",
     "exception": false,
     "start_time": "2023-11-26T10:38:03.389187",
     "status": "completed"
    },
    "tags": []
   },
   "outputs": [],
   "source": [
    "import matplotlib.pyplot as plt\n",
    "\n",
    "#for loading and visualizing audio files\n",
    "import librosa\n",
    "import librosa.display\n",
    "from tqdm import tqdm\n",
    "#to play audio\n",
    "import IPython.display as ipd\n",
    "import pandas as pd # data processing, CSV file I/O (e.g. pd.read_csv)\n",
    "import tensorflow as tf\n",
    "import cv2\n",
    "from keras.preprocessing.image import ImageDataGenerator\n",
    "from keras import backend as K\n",
    "import keras\n",
    "from keras.models import Sequential, Model,load_model\n",
    "from tensorflow.keras.optimizers import SGD, Adam\n",
    "from keras.callbacks import EarlyStopping,ModelCheckpoint\n",
    "from keras.layers import Input, Dense, Dropout, LSTM, Embedding, Flatten, Bidirectional\n",
    "from keras.preprocessing import image\n",
    "from keras.initializers import glorot_uniform\n",
    "from tensorflow.keras.applications import inception_v3\n",
    "from tensorflow.keras.models import Sequential\n",
    "from tensorflow.keras.preprocessing.image import ImageDataGenerator\n",
    "import numpy as np\n",
    "from sklearn.model_selection import train_test_split\n",
    "from keras.callbacks import ReduceLROnPlateau, EarlyStopping\n",
    "from tensorflow.keras.metrics import AUC\n",
    "import os\n",
    "import shutil\n",
    "label_csv = '../input/gtzan-dataset-music-genre-classification/Data/features_3_sec.csv'\n",
    "audio_fpath = \"../input/gtzan-dataset-music-genre-classification/Data/genres_original/\""
   ]
  },
  {
   "cell_type": "code",
   "execution_count": 2,
   "id": "03226289",
   "metadata": {
    "execution": {
     "iopub.execute_input": "2023-11-26T10:38:10.620409Z",
     "iopub.status.busy": "2023-11-26T10:38:10.619836Z",
     "iopub.status.idle": "2023-11-26T10:38:10.627510Z",
     "shell.execute_reply": "2023-11-26T10:38:10.626626Z"
    },
    "papermill": {
     "duration": 0.016891,
     "end_time": "2023-11-26T10:38:10.629527",
     "exception": false,
     "start_time": "2023-11-26T10:38:10.612636",
     "status": "completed"
    },
    "tags": []
   },
   "outputs": [],
   "source": [
    "class AudioAugmentation:   \n",
    "    def add_noise(self, data):\n",
    "        noise = np.random.randn(len(data))\n",
    "        data_noise = data + 0.005 * noise\n",
    "        return data_noise\n",
    "    \n",
    "    def shift(self, data):\n",
    "        return np.roll(data, 6614)\n",
    "    \n",
    "    def stretch(self, data, rate=1):\n",
    "        input_length = 16000\n",
    "        data = librosa.effects.time_stretch(data, rate)\n",
    "        if len(data) > input_length:\n",
    "            data = data[:input_length]\n",
    "        else:\n",
    "            data = np.pad(data, (0, max(0, input_length - len(data))), \"constant\")\n",
    "        return data\n",
    "        "
   ]
  },
  {
   "cell_type": "code",
   "execution_count": 3,
   "id": "7c0748de",
   "metadata": {
    "execution": {
     "iopub.execute_input": "2023-11-26T10:38:10.642824Z",
     "iopub.status.busy": "2023-11-26T10:38:10.642548Z",
     "iopub.status.idle": "2023-11-26T10:38:11.098895Z",
     "shell.execute_reply": "2023-11-26T10:38:11.097838Z"
    },
    "papermill": {
     "duration": 0.465464,
     "end_time": "2023-11-26T10:38:11.101216",
     "exception": false,
     "start_time": "2023-11-26T10:38:10.635752",
     "status": "completed"
    },
    "tags": []
   },
   "outputs": [
    {
     "name": "stdout",
     "output_type": "stream",
     "text": [
      "No. of .wav files in audio folder =  10\n",
      "            filename  length  chroma_stft_mean  chroma_stft_var  rms_mean  \\\n",
      "0  blues.00000.0.wav   66149          0.335406         0.091048  0.130405   \n",
      "1  blues.00000.1.wav   66149          0.343065         0.086147  0.112699   \n",
      "2  blues.00000.2.wav   66149          0.346815         0.092243  0.132003   \n",
      "3  blues.00000.3.wav   66149          0.363639         0.086856  0.132565   \n",
      "4  blues.00000.4.wav   66149          0.335579         0.088129  0.143289   \n",
      "\n",
      "    rms_var  spectral_centroid_mean  spectral_centroid_var  \\\n",
      "0  0.003521             1773.065032          167541.630869   \n",
      "1  0.001450             1816.693777           90525.690866   \n",
      "2  0.004620             1788.539719          111407.437613   \n",
      "3  0.002448             1655.289045          111952.284517   \n",
      "4  0.001701             1630.656199           79667.267654   \n",
      "\n",
      "   spectral_bandwidth_mean  spectral_bandwidth_var  ...  mfcc16_var  \\\n",
      "0              1972.744388           117335.771563  ...   39.687145   \n",
      "1              2010.051501            65671.875673  ...   64.748276   \n",
      "2              2084.565132            75124.921716  ...   67.336563   \n",
      "3              1960.039988            82913.639269  ...   47.739452   \n",
      "4              1948.503884            60204.020268  ...   30.336359   \n",
      "\n",
      "   mfcc17_mean  mfcc17_var  mfcc18_mean  mfcc18_var  mfcc19_mean  mfcc19_var  \\\n",
      "0    -3.241280   36.488243     0.722209   38.099152    -5.050335   33.618073   \n",
      "1    -6.055294   40.677654     0.159015   51.264091    -2.837699   97.030830   \n",
      "2    -1.768610   28.348579     2.378768   45.717648    -1.938424   53.050835   \n",
      "3    -3.841155   28.337118     1.218588   34.770935    -3.580352   50.836224   \n",
      "4     0.664582   45.880913     1.689446   51.363583    -3.392489   26.738789   \n",
      "\n",
      "   mfcc20_mean  mfcc20_var  label  \n",
      "0    -0.243027   43.771767  blues  \n",
      "1     5.784063   59.943081  blues  \n",
      "2     2.517375   33.105122  blues  \n",
      "3     3.630866   32.023678  blues  \n",
      "4     0.536961   29.146694  blues  \n",
      "\n",
      "[5 rows x 60 columns]\n"
     ]
    },
    {
     "data": {
      "text/plain": [
       "(9990, 60)"
      ]
     },
     "execution_count": 3,
     "metadata": {},
     "output_type": "execute_result"
    }
   ],
   "source": [
    "\n",
    "audio_clips = os.listdir(audio_fpath)\n",
    "print(\"No. of .wav files in audio folder = \",len(audio_clips))\n",
    "df = pd.read_csv(label_csv)\n",
    "\n",
    "print(df.head())\n",
    "df.shape"
   ]
  },
  {
   "cell_type": "code",
   "execution_count": 4,
   "id": "adc65266",
   "metadata": {
    "execution": {
     "iopub.execute_input": "2023-11-26T10:38:11.115747Z",
     "iopub.status.busy": "2023-11-26T10:38:11.115442Z",
     "iopub.status.idle": "2023-11-26T10:38:11.761865Z",
     "shell.execute_reply": "2023-11-26T10:38:11.760512Z"
    },
    "papermill": {
     "duration": 0.656295,
     "end_time": "2023-11-26T10:38:11.764212",
     "exception": false,
     "start_time": "2023-11-26T10:38:11.107917",
     "status": "completed"
    },
    "tags": []
   },
   "outputs": [
    {
     "name": "stdout",
     "output_type": "stream",
     "text": [
      "<class 'numpy.ndarray'> <class 'int'>\n",
      "(661794,) 22050\n"
     ]
    }
   ],
   "source": [
    "x, sr = librosa.load('../input/gtzan-dataset-music-genre-classification/Data/genres_original/blues/blues.00000.wav')\n",
    "\n",
    "print(type(x), type(sr))\n",
    "print(x.shape, sr)"
   ]
  },
  {
   "cell_type": "code",
   "execution_count": 5,
   "id": "430dbb8f",
   "metadata": {
    "execution": {
     "iopub.execute_input": "2023-11-26T10:38:11.779219Z",
     "iopub.status.busy": "2023-11-26T10:38:11.778849Z",
     "iopub.status.idle": "2023-11-26T10:38:11.783714Z",
     "shell.execute_reply": "2023-11-26T10:38:11.782799Z"
    },
    "papermill": {
     "duration": 0.014856,
     "end_time": "2023-11-26T10:38:11.785769",
     "exception": false,
     "start_time": "2023-11-26T10:38:11.770913",
     "status": "completed"
    },
    "tags": []
   },
   "outputs": [],
   "source": [
    "audio_duration = x.shape[0] / sr"
   ]
  },
  {
   "cell_type": "code",
   "execution_count": 6,
   "id": "c009f395",
   "metadata": {
    "execution": {
     "iopub.execute_input": "2023-11-26T10:38:11.800017Z",
     "iopub.status.busy": "2023-11-26T10:38:11.799727Z",
     "iopub.status.idle": "2023-11-26T10:38:13.683165Z",
     "shell.execute_reply": "2023-11-26T10:38:13.682079Z"
    },
    "papermill": {
     "duration": 1.893342,
     "end_time": "2023-11-26T10:38:13.685625",
     "exception": false,
     "start_time": "2023-11-26T10:38:11.792283",
     "status": "completed"
    },
    "tags": []
   },
   "outputs": [
    {
     "name": "stderr",
     "output_type": "stream",
     "text": [
      "9990it [00:01, 5335.48it/s]"
     ]
    },
    {
     "name": "stdout",
     "output_type": "stream",
     "text": [
      "[-118.62791442871094, 125.08362579345705, -23.443723678588867, 41.32148361206055, -5.976108074188232, 20.115140914916992, -16.04541015625, 17.85519790649414, -14.633434295654297, 10.270526885986328, -9.70827865600586, 10.18387508392334, -4.681614398956299, 8.417439460754395, -7.233476638793945, -2.8536033630371094, -3.2412803173065186, 0.7222089767456055, -5.05033540725708, -0.2430267930030822]\n"
     ]
    },
    {
     "name": "stderr",
     "output_type": "stream",
     "text": [
      "\n"
     ]
    }
   ],
   "source": [
    "extracted_data = []\n",
    "for index, row in tqdm(df.iterrows()):\n",
    "    mfcc = []\n",
    "    class_labels = row['label']\n",
    "    for i in range(1,21):\n",
    "        mfcc.append(row['mfcc'+ str(i)+'_mean'])\n",
    "    extracted_data.append([mfcc, class_labels])\n",
    "print(extracted_data[0][0])"
   ]
  },
  {
   "cell_type": "code",
   "execution_count": 7,
   "id": "0904bd37",
   "metadata": {
    "execution": {
     "iopub.execute_input": "2023-11-26T10:38:13.703371Z",
     "iopub.status.busy": "2023-11-26T10:38:13.703009Z",
     "iopub.status.idle": "2023-11-26T10:38:13.722584Z",
     "shell.execute_reply": "2023-11-26T10:38:13.721300Z"
    },
    "papermill": {
     "duration": 0.030685,
     "end_time": "2023-11-26T10:38:13.724798",
     "exception": false,
     "start_time": "2023-11-26T10:38:13.694113",
     "status": "completed"
    },
    "tags": []
   },
   "outputs": [
    {
     "name": "stderr",
     "output_type": "stream",
     "text": [
      "/opt/conda/lib/python3.7/site-packages/ipykernel_launcher.py:1: VisibleDeprecationWarning: Creating an ndarray from ragged nested sequences (which is a list-or-tuple of lists-or-tuples-or ndarrays with different lengths or shapes) is deprecated. If you meant to do this, you must specify 'dtype=object' when creating the ndarray.\n",
      "  \"\"\"Entry point for launching an IPython kernel.\n"
     ]
    },
    {
     "data": {
      "text/plain": [
       "(9990, 2)"
      ]
     },
     "execution_count": 7,
     "metadata": {},
     "output_type": "execute_result"
    }
   ],
   "source": [
    "np.array(extracted_data).shape"
   ]
  },
  {
   "cell_type": "code",
   "execution_count": 8,
   "id": "724947a6",
   "metadata": {
    "execution": {
     "iopub.execute_input": "2023-11-26T10:38:13.743764Z",
     "iopub.status.busy": "2023-11-26T10:38:13.743471Z",
     "iopub.status.idle": "2023-11-26T10:38:13.760445Z",
     "shell.execute_reply": "2023-11-26T10:38:13.759632Z"
    },
    "papermill": {
     "duration": 0.029338,
     "end_time": "2023-11-26T10:38:13.762510",
     "exception": false,
     "start_time": "2023-11-26T10:38:13.733172",
     "status": "completed"
    },
    "tags": []
   },
   "outputs": [
    {
     "data": {
      "text/html": [
       "<div>\n",
       "<style scoped>\n",
       "    .dataframe tbody tr th:only-of-type {\n",
       "        vertical-align: middle;\n",
       "    }\n",
       "\n",
       "    .dataframe tbody tr th {\n",
       "        vertical-align: top;\n",
       "    }\n",
       "\n",
       "    .dataframe thead th {\n",
       "        text-align: right;\n",
       "    }\n",
       "</style>\n",
       "<table border=\"1\" class=\"dataframe\">\n",
       "  <thead>\n",
       "    <tr style=\"text-align: right;\">\n",
       "      <th></th>\n",
       "      <th>feature</th>\n",
       "      <th>class</th>\n",
       "    </tr>\n",
       "  </thead>\n",
       "  <tbody>\n",
       "    <tr>\n",
       "      <th>0</th>\n",
       "      <td>[-118.62791442871094, 125.08362579345705, -23....</td>\n",
       "      <td>blues</td>\n",
       "    </tr>\n",
       "    <tr>\n",
       "      <th>1</th>\n",
       "      <td>[-125.59070587158205, 122.42122650146484, -20....</td>\n",
       "      <td>blues</td>\n",
       "    </tr>\n",
       "    <tr>\n",
       "      <th>2</th>\n",
       "      <td>[-132.4419403076172, 115.08517456054688, -14.8...</td>\n",
       "      <td>blues</td>\n",
       "    </tr>\n",
       "    <tr>\n",
       "      <th>3</th>\n",
       "      <td>[-118.23108673095705, 132.1165008544922, -18.7...</td>\n",
       "      <td>blues</td>\n",
       "    </tr>\n",
       "    <tr>\n",
       "      <th>4</th>\n",
       "      <td>[-105.96837615966795, 134.64364624023438, -19....</td>\n",
       "      <td>blues</td>\n",
       "    </tr>\n",
       "  </tbody>\n",
       "</table>\n",
       "</div>"
      ],
      "text/plain": [
       "                                             feature  class\n",
       "0  [-118.62791442871094, 125.08362579345705, -23....  blues\n",
       "1  [-125.59070587158205, 122.42122650146484, -20....  blues\n",
       "2  [-132.4419403076172, 115.08517456054688, -14.8...  blues\n",
       "3  [-118.23108673095705, 132.1165008544922, -18.7...  blues\n",
       "4  [-105.96837615966795, 134.64364624023438, -19....  blues"
      ]
     },
     "execution_count": 8,
     "metadata": {},
     "output_type": "execute_result"
    }
   ],
   "source": [
    "feature_df = pd.DataFrame(extracted_data, columns=['feature','class'])\n",
    "\n",
    "feature_df.head()"
   ]
  },
  {
   "cell_type": "code",
   "execution_count": 9,
   "id": "55e76f36",
   "metadata": {
    "execution": {
     "iopub.execute_input": "2023-11-26T10:38:13.780710Z",
     "iopub.status.busy": "2023-11-26T10:38:13.780201Z",
     "iopub.status.idle": "2023-11-26T10:38:13.816216Z",
     "shell.execute_reply": "2023-11-26T10:38:13.815316Z"
    },
    "papermill": {
     "duration": 0.047454,
     "end_time": "2023-11-26T10:38:13.818354",
     "exception": false,
     "start_time": "2023-11-26T10:38:13.770900",
     "status": "completed"
    },
    "tags": []
   },
   "outputs": [
    {
     "data": {
      "text/plain": [
       "(9990, 20)"
      ]
     },
     "execution_count": 9,
     "metadata": {},
     "output_type": "execute_result"
    }
   ],
   "source": [
    "x = np.array(feature_df['feature'].tolist())\n",
    "\n",
    "x.shape"
   ]
  },
  {
   "cell_type": "code",
   "execution_count": 10,
   "id": "18e942e7",
   "metadata": {
    "execution": {
     "iopub.execute_input": "2023-11-26T10:38:13.836937Z",
     "iopub.status.busy": "2023-11-26T10:38:13.836381Z",
     "iopub.status.idle": "2023-11-26T10:38:13.843651Z",
     "shell.execute_reply": "2023-11-26T10:38:13.842885Z"
    },
    "papermill": {
     "duration": 0.018735,
     "end_time": "2023-11-26T10:38:13.845586",
     "exception": false,
     "start_time": "2023-11-26T10:38:13.826851",
     "status": "completed"
    },
    "tags": []
   },
   "outputs": [],
   "source": [
    "target = np.array(feature_df['class'].tolist())"
   ]
  },
  {
   "cell_type": "code",
   "execution_count": 11,
   "id": "99af2298",
   "metadata": {
    "execution": {
     "iopub.execute_input": "2023-11-26T10:38:13.864097Z",
     "iopub.status.busy": "2023-11-26T10:38:13.863535Z",
     "iopub.status.idle": "2023-11-26T10:38:13.882360Z",
     "shell.execute_reply": "2023-11-26T10:38:13.881521Z"
    },
    "papermill": {
     "duration": 0.030069,
     "end_time": "2023-11-26T10:38:13.884342",
     "exception": false,
     "start_time": "2023-11-26T10:38:13.854273",
     "status": "completed"
    },
    "tags": []
   },
   "outputs": [
    {
     "name": "stdout",
     "output_type": "stream",
     "text": [
      "(9990, 10)\n"
     ]
    },
    {
     "data": {
      "text/html": [
       "<div>\n",
       "<style scoped>\n",
       "    .dataframe tbody tr th:only-of-type {\n",
       "        vertical-align: middle;\n",
       "    }\n",
       "\n",
       "    .dataframe tbody tr th {\n",
       "        vertical-align: top;\n",
       "    }\n",
       "\n",
       "    .dataframe thead th {\n",
       "        text-align: right;\n",
       "    }\n",
       "</style>\n",
       "<table border=\"1\" class=\"dataframe\">\n",
       "  <thead>\n",
       "    <tr style=\"text-align: right;\">\n",
       "      <th></th>\n",
       "      <th>blues</th>\n",
       "      <th>classical</th>\n",
       "      <th>country</th>\n",
       "      <th>disco</th>\n",
       "      <th>hiphop</th>\n",
       "      <th>jazz</th>\n",
       "      <th>metal</th>\n",
       "      <th>pop</th>\n",
       "      <th>reggae</th>\n",
       "      <th>rock</th>\n",
       "    </tr>\n",
       "  </thead>\n",
       "  <tbody>\n",
       "    <tr>\n",
       "      <th>0</th>\n",
       "      <td>1</td>\n",
       "      <td>0</td>\n",
       "      <td>0</td>\n",
       "      <td>0</td>\n",
       "      <td>0</td>\n",
       "      <td>0</td>\n",
       "      <td>0</td>\n",
       "      <td>0</td>\n",
       "      <td>0</td>\n",
       "      <td>0</td>\n",
       "    </tr>\n",
       "    <tr>\n",
       "      <th>1</th>\n",
       "      <td>1</td>\n",
       "      <td>0</td>\n",
       "      <td>0</td>\n",
       "      <td>0</td>\n",
       "      <td>0</td>\n",
       "      <td>0</td>\n",
       "      <td>0</td>\n",
       "      <td>0</td>\n",
       "      <td>0</td>\n",
       "      <td>0</td>\n",
       "    </tr>\n",
       "    <tr>\n",
       "      <th>2</th>\n",
       "      <td>1</td>\n",
       "      <td>0</td>\n",
       "      <td>0</td>\n",
       "      <td>0</td>\n",
       "      <td>0</td>\n",
       "      <td>0</td>\n",
       "      <td>0</td>\n",
       "      <td>0</td>\n",
       "      <td>0</td>\n",
       "      <td>0</td>\n",
       "    </tr>\n",
       "    <tr>\n",
       "      <th>3</th>\n",
       "      <td>1</td>\n",
       "      <td>0</td>\n",
       "      <td>0</td>\n",
       "      <td>0</td>\n",
       "      <td>0</td>\n",
       "      <td>0</td>\n",
       "      <td>0</td>\n",
       "      <td>0</td>\n",
       "      <td>0</td>\n",
       "      <td>0</td>\n",
       "    </tr>\n",
       "    <tr>\n",
       "      <th>4</th>\n",
       "      <td>1</td>\n",
       "      <td>0</td>\n",
       "      <td>0</td>\n",
       "      <td>0</td>\n",
       "      <td>0</td>\n",
       "      <td>0</td>\n",
       "      <td>0</td>\n",
       "      <td>0</td>\n",
       "      <td>0</td>\n",
       "      <td>0</td>\n",
       "    </tr>\n",
       "  </tbody>\n",
       "</table>\n",
       "</div>"
      ],
      "text/plain": [
       "   blues  classical  country  disco  hiphop  jazz  metal  pop  reggae  rock\n",
       "0      1          0        0      0       0     0      0    0       0     0\n",
       "1      1          0        0      0       0     0      0    0       0     0\n",
       "2      1          0        0      0       0     0      0    0       0     0\n",
       "3      1          0        0      0       0     0      0    0       0     0\n",
       "4      1          0        0      0       0     0      0    0       0     0"
      ]
     },
     "execution_count": 11,
     "metadata": {},
     "output_type": "execute_result"
    }
   ],
   "source": [
    "y_new = pd.get_dummies(target)\n",
    "print(y_new.shape)\n",
    "y_new.head()"
   ]
  },
  {
   "cell_type": "code",
   "execution_count": 12,
   "id": "96c9d464",
   "metadata": {
    "execution": {
     "iopub.execute_input": "2023-11-26T10:38:13.903209Z",
     "iopub.status.busy": "2023-11-26T10:38:13.902747Z",
     "iopub.status.idle": "2023-11-26T10:38:13.916520Z",
     "shell.execute_reply": "2023-11-26T10:38:13.915614Z"
    },
    "papermill": {
     "duration": 0.025274,
     "end_time": "2023-11-26T10:38:13.918630",
     "exception": false,
     "start_time": "2023-11-26T10:38:13.893356",
     "status": "completed"
    },
    "tags": []
   },
   "outputs": [
    {
     "name": "stdout",
     "output_type": "stream",
     "text": [
      "(7992, 20), (1998, 20)\n"
     ]
    },
    {
     "data": {
      "text/plain": [
       "array([[[-3.24867615e+02,  1.77975204e+02,  2.40419998e+01, ...,\n",
       "         -4.34563017e+00, -1.80160451e+00, -3.90213466e+00]],\n",
       "\n",
       "       [[-2.58889618e+02,  1.16611534e+02,  1.84107578e+00, ...,\n",
       "          5.05907498e-02,  4.80156851e+00,  7.27069259e-01]],\n",
       "\n",
       "       [[-5.71014290e+01,  7.48747330e+01, -4.52312965e+01, ...,\n",
       "          9.32623744e-01,  1.13561332e+00,  2.13897491e+00]],\n",
       "\n",
       "       ...,\n",
       "\n",
       "       [[-1.89605316e+02,  1.17735802e+02, -1.24772348e+01, ...,\n",
       "          4.06341553e+00, -2.26114249e+00, -2.24034995e-01]],\n",
       "\n",
       "       [[-1.76899078e+02,  1.19373657e+02, -2.55092049e+00, ...,\n",
       "         -8.90102625e-01, -6.22514772e+00, -3.14809155e+00]],\n",
       "\n",
       "       [[-1.38830536e+02,  1.23055527e+02, -6.22227848e-01, ...,\n",
       "         -1.04806509e+01, -1.19253898e+00,  2.82588601e+00]]])"
      ]
     },
     "execution_count": 12,
     "metadata": {},
     "output_type": "execute_result"
    }
   ],
   "source": [
    "X_train, X_test, y_train, y_test = train_test_split(x, \n",
    "                                                    y_new, \n",
    "                                                    test_size=0.2, \n",
    "                                                    random_state=15)\n",
    "\n",
    "print(str(X_train.shape)+ ', ' + str(X_test.shape))\n",
    "inp = (1, 20)\n",
    "np.array(X_train).reshape(7992, 1, 20)"
   ]
  },
  {
   "cell_type": "code",
   "execution_count": 13,
   "id": "1e052cf8",
   "metadata": {
    "execution": {
     "iopub.execute_input": "2023-11-26T10:38:13.937957Z",
     "iopub.status.busy": "2023-11-26T10:38:13.937478Z",
     "iopub.status.idle": "2023-11-26T10:38:13.944997Z",
     "shell.execute_reply": "2023-11-26T10:38:13.944165Z"
    },
    "papermill": {
     "duration": 0.019437,
     "end_time": "2023-11-26T10:38:13.946924",
     "exception": false,
     "start_time": "2023-11-26T10:38:13.927487",
     "status": "completed"
    },
    "tags": []
   },
   "outputs": [
    {
     "data": {
      "text/plain": [
       "array([[[-3.24867615e+02,  1.77975204e+02,  2.40419998e+01, ...,\n",
       "         -4.34563017e+00, -1.80160451e+00, -3.90213466e+00]],\n",
       "\n",
       "       [[-2.58889618e+02,  1.16611534e+02,  1.84107578e+00, ...,\n",
       "          5.05907498e-02,  4.80156851e+00,  7.27069259e-01]],\n",
       "\n",
       "       [[-5.71014290e+01,  7.48747330e+01, -4.52312965e+01, ...,\n",
       "          9.32623744e-01,  1.13561332e+00,  2.13897491e+00]],\n",
       "\n",
       "       ...,\n",
       "\n",
       "       [[-1.89605316e+02,  1.17735802e+02, -1.24772348e+01, ...,\n",
       "          4.06341553e+00, -2.26114249e+00, -2.24034995e-01]],\n",
       "\n",
       "       [[-1.76899078e+02,  1.19373657e+02, -2.55092049e+00, ...,\n",
       "         -8.90102625e-01, -6.22514772e+00, -3.14809155e+00]],\n",
       "\n",
       "       [[-1.38830536e+02,  1.23055527e+02, -6.22227848e-01, ...,\n",
       "         -1.04806509e+01, -1.19253898e+00,  2.82588601e+00]]])"
      ]
     },
     "execution_count": 13,
     "metadata": {},
     "output_type": "execute_result"
    }
   ],
   "source": [
    "np.array(X_train).reshape(7992,1,20)"
   ]
  },
  {
   "cell_type": "code",
   "execution_count": 14,
   "id": "affd51aa",
   "metadata": {
    "execution": {
     "iopub.execute_input": "2023-11-26T10:38:13.967627Z",
     "iopub.status.busy": "2023-11-26T10:38:13.966944Z",
     "iopub.status.idle": "2023-11-26T10:38:17.263118Z",
     "shell.execute_reply": "2023-11-26T10:38:17.261809Z"
    },
    "papermill": {
     "duration": 3.308701,
     "end_time": "2023-11-26T10:38:17.265420",
     "exception": false,
     "start_time": "2023-11-26T10:38:13.956719",
     "status": "completed"
    },
    "tags": []
   },
   "outputs": [
    {
     "name": "stdout",
     "output_type": "stream",
     "text": [
      "Model: \"sequential\"\n",
      "_________________________________________________________________\n",
      "Layer (type)                 Output Shape              Param #   \n",
      "=================================================================\n",
      "bidirectional (Bidirectional (None, 1, 1024)           2183168   \n",
      "_________________________________________________________________\n",
      "flatten (Flatten)            (None, 1024)              0         \n",
      "_________________________________________________________________\n",
      "dense (Dense)                (None, 10)                10250     \n",
      "=================================================================\n",
      "Total params: 2,193,418\n",
      "Trainable params: 2,193,418\n",
      "Non-trainable params: 0\n",
      "_________________________________________________________________\n",
      "None\n"
     ]
    }
   ],
   "source": [
    "model = Sequential()\n",
    "model.add(Input(shape = (1,20)))\n",
    "model.add(Bidirectional(LSTM(512, return_sequences = True, recurrent_dropout = 0.2, dropout = 0.2)))\n",
    "model.add(Flatten())\n",
    "model.add(Dense(10, activation='softmax'))\n",
    "model.compile(\n",
    "    loss = 'categorical_crossentropy',\n",
    "    optimizer='adam',\n",
    "    metrics=['accuracy', AUC()]\n",
    ")\n",
    "print(model.summary())"
   ]
  },
  {
   "cell_type": "code",
   "execution_count": 15,
   "id": "9ed0f2f5",
   "metadata": {
    "execution": {
     "iopub.execute_input": "2023-11-26T10:38:17.285798Z",
     "iopub.status.busy": "2023-11-26T10:38:17.285151Z",
     "iopub.status.idle": "2023-11-26T10:39:00.242033Z",
     "shell.execute_reply": "2023-11-26T10:39:00.240962Z"
    },
    "papermill": {
     "duration": 42.982598,
     "end_time": "2023-11-26T10:39:00.257444",
     "exception": false,
     "start_time": "2023-11-26T10:38:17.274846",
     "status": "completed"
    },
    "tags": []
   },
   "outputs": [
    {
     "name": "stdout",
     "output_type": "stream",
     "text": [
      "Epoch 1/500\n",
      "16/16 [==============================] - 6s 54ms/step - loss: 1.9132 - accuracy: 0.3188 - auc: 0.7605 - val_loss: 1.5337 - val_accuracy: 0.4580 - val_auc: 0.8610\n",
      "Epoch 2/500\n",
      "16/16 [==============================] - 0s 14ms/step - loss: 1.5704 - accuracy: 0.4481 - auc: 0.8548 - val_loss: 1.3719 - val_accuracy: 0.4975 - val_auc: 0.8921\n",
      "Epoch 3/500\n",
      "16/16 [==============================] - 0s 14ms/step - loss: 1.4389 - accuracy: 0.4884 - auc: 0.8819 - val_loss: 1.2807 - val_accuracy: 0.5420 - val_auc: 0.9062\n",
      "Epoch 4/500\n",
      "16/16 [==============================] - 0s 14ms/step - loss: 1.3535 - accuracy: 0.5226 - auc: 0.8962 - val_loss: 1.1993 - val_accuracy: 0.5781 - val_auc: 0.9183\n",
      "Epoch 5/500\n",
      "16/16 [==============================] - 0s 14ms/step - loss: 1.3020 - accuracy: 0.5353 - auc: 0.9046 - val_loss: 1.1685 - val_accuracy: 0.5876 - val_auc: 0.9221\n",
      "Epoch 6/500\n",
      "16/16 [==============================] - 0s 14ms/step - loss: 1.2638 - accuracy: 0.5562 - auc: 0.9105 - val_loss: 1.1212 - val_accuracy: 0.6006 - val_auc: 0.9285\n",
      "Epoch 7/500\n",
      "16/16 [==============================] - 0s 14ms/step - loss: 1.2329 - accuracy: 0.5616 - auc: 0.9144 - val_loss: 1.1040 - val_accuracy: 0.6031 - val_auc: 0.9310\n",
      "Epoch 8/500\n",
      "16/16 [==============================] - 0s 14ms/step - loss: 1.2092 - accuracy: 0.5703 - auc: 0.9182 - val_loss: 1.1011 - val_accuracy: 0.6066 - val_auc: 0.9310\n",
      "Epoch 9/500\n",
      "16/16 [==============================] - 0s 14ms/step - loss: 1.1860 - accuracy: 0.5860 - auc: 0.9209 - val_loss: 1.0802 - val_accuracy: 0.6176 - val_auc: 0.9339\n",
      "Epoch 10/500\n",
      "16/16 [==============================] - 0s 14ms/step - loss: 1.1482 - accuracy: 0.5972 - auc: 0.9266 - val_loss: 1.0367 - val_accuracy: 0.6361 - val_auc: 0.9390\n",
      "Epoch 11/500\n",
      "16/16 [==============================] - 0s 14ms/step - loss: 1.1266 - accuracy: 0.6075 - auc: 0.9294 - val_loss: 1.0223 - val_accuracy: 0.6341 - val_auc: 0.9405\n",
      "Epoch 12/500\n",
      "16/16 [==============================] - 0s 14ms/step - loss: 1.1131 - accuracy: 0.6075 - auc: 0.9314 - val_loss: 0.9961 - val_accuracy: 0.6597 - val_auc: 0.9437\n",
      "Epoch 13/500\n",
      "16/16 [==============================] - 0s 14ms/step - loss: 1.0908 - accuracy: 0.6165 - auc: 0.9344 - val_loss: 0.9975 - val_accuracy: 0.6527 - val_auc: 0.9433\n",
      "Epoch 14/500\n",
      "16/16 [==============================] - 0s 14ms/step - loss: 1.0701 - accuracy: 0.6246 - auc: 0.9369 - val_loss: 0.9506 - val_accuracy: 0.6682 - val_auc: 0.9483\n",
      "Epoch 15/500\n",
      "16/16 [==============================] - 0s 14ms/step - loss: 1.0617 - accuracy: 0.6281 - auc: 0.9378 - val_loss: 0.9441 - val_accuracy: 0.6717 - val_auc: 0.9493\n",
      "Epoch 16/500\n",
      "16/16 [==============================] - 0s 14ms/step - loss: 1.0409 - accuracy: 0.6354 - auc: 0.9406 - val_loss: 0.9333 - val_accuracy: 0.6727 - val_auc: 0.9498\n",
      "Epoch 17/500\n",
      "16/16 [==============================] - 0s 14ms/step - loss: 1.0290 - accuracy: 0.6386 - auc: 0.9418 - val_loss: 0.9240 - val_accuracy: 0.6727 - val_auc: 0.9510\n",
      "Epoch 18/500\n",
      "16/16 [==============================] - 0s 14ms/step - loss: 1.0295 - accuracy: 0.6359 - auc: 0.9417 - val_loss: 0.8978 - val_accuracy: 0.6857 - val_auc: 0.9537\n",
      "Epoch 19/500\n",
      "16/16 [==============================] - 0s 14ms/step - loss: 1.0050 - accuracy: 0.6493 - auc: 0.9447 - val_loss: 0.8759 - val_accuracy: 0.6962 - val_auc: 0.9558\n",
      "Epoch 20/500\n",
      "16/16 [==============================] - 0s 14ms/step - loss: 0.9962 - accuracy: 0.6515 - auc: 0.9454 - val_loss: 0.8848 - val_accuracy: 0.6817 - val_auc: 0.9549\n",
      "Epoch 21/500\n",
      "16/16 [==============================] - 0s 14ms/step - loss: 0.9709 - accuracy: 0.6582 - auc: 0.9487 - val_loss: 0.8693 - val_accuracy: 0.7007 - val_auc: 0.9562\n",
      "Epoch 22/500\n",
      "16/16 [==============================] - 0s 14ms/step - loss: 0.9747 - accuracy: 0.6582 - auc: 0.9478 - val_loss: 0.9074 - val_accuracy: 0.6852 - val_auc: 0.9527\n",
      "Epoch 23/500\n",
      "16/16 [==============================] - 0s 13ms/step - loss: 0.9695 - accuracy: 0.6594 - auc: 0.9485 - val_loss: 0.8720 - val_accuracy: 0.7007 - val_auc: 0.9557\n",
      "Epoch 24/500\n",
      "16/16 [==============================] - 0s 14ms/step - loss: 0.9497 - accuracy: 0.6717 - auc: 0.9505 - val_loss: 0.8596 - val_accuracy: 0.7022 - val_auc: 0.9570\n",
      "Epoch 25/500\n",
      "16/16 [==============================] - 0s 14ms/step - loss: 0.9413 - accuracy: 0.6733 - auc: 0.9514 - val_loss: 0.8492 - val_accuracy: 0.7062 - val_auc: 0.9577\n",
      "Epoch 26/500\n",
      "16/16 [==============================] - 0s 14ms/step - loss: 0.9319 - accuracy: 0.6725 - auc: 0.9524 - val_loss: 0.8368 - val_accuracy: 0.7032 - val_auc: 0.9589\n",
      "Epoch 27/500\n",
      "16/16 [==============================] - 0s 13ms/step - loss: 0.9233 - accuracy: 0.6811 - auc: 0.9536 - val_loss: 0.8560 - val_accuracy: 0.6972 - val_auc: 0.9573\n",
      "Epoch 28/500\n",
      "16/16 [==============================] - 0s 14ms/step - loss: 0.9215 - accuracy: 0.6772 - auc: 0.9537 - val_loss: 0.8258 - val_accuracy: 0.7177 - val_auc: 0.9596\n",
      "Epoch 29/500\n",
      "16/16 [==============================] - 0s 15ms/step - loss: 0.9099 - accuracy: 0.6856 - auc: 0.9546 - val_loss: 0.8185 - val_accuracy: 0.7117 - val_auc: 0.9605\n",
      "Epoch 30/500\n",
      "16/16 [==============================] - 0s 14ms/step - loss: 0.8887 - accuracy: 0.6883 - auc: 0.9572 - val_loss: 0.8043 - val_accuracy: 0.7192 - val_auc: 0.9617\n",
      "Epoch 31/500\n",
      "16/16 [==============================] - 0s 14ms/step - loss: 0.8816 - accuracy: 0.6968 - auc: 0.9577 - val_loss: 0.7911 - val_accuracy: 0.7322 - val_auc: 0.9629\n",
      "Epoch 32/500\n",
      "16/16 [==============================] - 0s 14ms/step - loss: 0.8832 - accuracy: 0.6944 - auc: 0.9572 - val_loss: 0.8188 - val_accuracy: 0.7092 - val_auc: 0.9606\n",
      "Epoch 33/500\n",
      "16/16 [==============================] - 0s 14ms/step - loss: 0.8762 - accuracy: 0.6991 - auc: 0.9581 - val_loss: 0.8079 - val_accuracy: 0.7257 - val_auc: 0.9612\n",
      "Epoch 34/500\n",
      "16/16 [==============================] - 0s 14ms/step - loss: 0.8693 - accuracy: 0.6981 - auc: 0.9589 - val_loss: 0.8138 - val_accuracy: 0.7222 - val_auc: 0.9600\n",
      "Epoch 35/500\n",
      "16/16 [==============================] - 0s 14ms/step - loss: 0.8667 - accuracy: 0.7010 - auc: 0.9589 - val_loss: 0.7888 - val_accuracy: 0.7347 - val_auc: 0.9629\n",
      "Epoch 36/500\n",
      "16/16 [==============================] - 0s 14ms/step - loss: 0.8542 - accuracy: 0.7043 - auc: 0.9602 - val_loss: 0.7857 - val_accuracy: 0.7367 - val_auc: 0.9626\n",
      "Epoch 37/500\n",
      "16/16 [==============================] - 0s 14ms/step - loss: 0.8400 - accuracy: 0.7083 - auc: 0.9618 - val_loss: 0.7966 - val_accuracy: 0.7227 - val_auc: 0.9622\n",
      "Epoch 38/500\n",
      "16/16 [==============================] - 0s 14ms/step - loss: 0.8298 - accuracy: 0.7095 - auc: 0.9623 - val_loss: 0.7699 - val_accuracy: 0.7367 - val_auc: 0.9642\n",
      "Epoch 39/500\n",
      "16/16 [==============================] - 0s 14ms/step - loss: 0.8343 - accuracy: 0.7063 - auc: 0.9625 - val_loss: 0.7694 - val_accuracy: 0.7372 - val_auc: 0.9646\n",
      "Epoch 40/500\n",
      "16/16 [==============================] - 0s 14ms/step - loss: 0.8156 - accuracy: 0.7240 - auc: 0.9636 - val_loss: 0.7710 - val_accuracy: 0.7422 - val_auc: 0.9638\n",
      "Epoch 41/500\n",
      "16/16 [==============================] - 0s 14ms/step - loss: 0.8177 - accuracy: 0.7235 - auc: 0.9635 - val_loss: 0.7427 - val_accuracy: 0.7568 - val_auc: 0.9661\n",
      "Epoch 42/500\n",
      "16/16 [==============================] - 0s 14ms/step - loss: 0.8183 - accuracy: 0.7150 - auc: 0.9635 - val_loss: 0.7446 - val_accuracy: 0.7482 - val_auc: 0.9664\n",
      "Epoch 43/500\n",
      "16/16 [==============================] - 0s 16ms/step - loss: 0.7912 - accuracy: 0.7247 - auc: 0.9663 - val_loss: 0.7502 - val_accuracy: 0.7533 - val_auc: 0.9655\n",
      "Epoch 44/500\n",
      "16/16 [==============================] - 0s 14ms/step - loss: 0.8005 - accuracy: 0.7238 - auc: 0.9649 - val_loss: 0.7567 - val_accuracy: 0.7477 - val_auc: 0.9652\n",
      "Epoch 45/500\n",
      "16/16 [==============================] - 0s 14ms/step - loss: 0.8024 - accuracy: 0.7240 - auc: 0.9646 - val_loss: 0.7504 - val_accuracy: 0.7487 - val_auc: 0.9653\n",
      "Epoch 46/500\n",
      "16/16 [==============================] - 0s 14ms/step - loss: 0.7899 - accuracy: 0.7242 - auc: 0.9660 - val_loss: 0.7534 - val_accuracy: 0.7503 - val_auc: 0.9653\n",
      "Epoch 47/500\n",
      "16/16 [==============================] - 0s 14ms/step - loss: 0.7851 - accuracy: 0.7314 - auc: 0.9664 - val_loss: 0.7528 - val_accuracy: 0.7518 - val_auc: 0.9659\n",
      "Epoch 48/500\n",
      "16/16 [==============================] - 0s 14ms/step - loss: 0.7859 - accuracy: 0.7315 - auc: 0.9663 - val_loss: 0.7562 - val_accuracy: 0.7482 - val_auc: 0.9653\n",
      "Epoch 49/500\n",
      "16/16 [==============================] - 0s 14ms/step - loss: 0.7816 - accuracy: 0.7361 - auc: 0.9663 - val_loss: 0.7303 - val_accuracy: 0.7573 - val_auc: 0.9667\n",
      "Epoch 50/500\n",
      "16/16 [==============================] - 0s 14ms/step - loss: 0.7812 - accuracy: 0.7256 - auc: 0.9666 - val_loss: 0.7466 - val_accuracy: 0.7538 - val_auc: 0.9663\n",
      "Epoch 51/500\n",
      "16/16 [==============================] - 0s 14ms/step - loss: 0.7498 - accuracy: 0.7451 - auc: 0.9698 - val_loss: 0.7405 - val_accuracy: 0.7482 - val_auc: 0.9660\n",
      "Epoch 52/500\n",
      "16/16 [==============================] - 0s 14ms/step - loss: 0.7448 - accuracy: 0.7450 - auc: 0.9697 - val_loss: 0.7268 - val_accuracy: 0.7588 - val_auc: 0.9672\n",
      "Epoch 53/500\n",
      "16/16 [==============================] - 0s 14ms/step - loss: 0.7568 - accuracy: 0.7405 - auc: 0.9687 - val_loss: 0.7046 - val_accuracy: 0.7618 - val_auc: 0.9689\n",
      "Epoch 54/500\n",
      "16/16 [==============================] - 0s 14ms/step - loss: 0.7447 - accuracy: 0.7436 - auc: 0.9698 - val_loss: 0.7228 - val_accuracy: 0.7583 - val_auc: 0.9682\n",
      "Epoch 55/500\n",
      "16/16 [==============================] - 0s 14ms/step - loss: 0.7416 - accuracy: 0.7420 - auc: 0.9698 - val_loss: 0.7198 - val_accuracy: 0.7553 - val_auc: 0.9676\n",
      "Epoch 56/500\n",
      "16/16 [==============================] - 0s 14ms/step - loss: 0.7397 - accuracy: 0.7487 - auc: 0.9698 - val_loss: 0.7424 - val_accuracy: 0.7563 - val_auc: 0.9654\n",
      "Epoch 57/500\n",
      "16/16 [==============================] - 0s 14ms/step - loss: 0.7423 - accuracy: 0.7484 - auc: 0.9696 - val_loss: 0.7036 - val_accuracy: 0.7648 - val_auc: 0.9693\n",
      "Epoch 58/500\n",
      "16/16 [==============================] - 0s 14ms/step - loss: 0.7217 - accuracy: 0.7521 - auc: 0.9717 - val_loss: 0.7073 - val_accuracy: 0.7628 - val_auc: 0.9683\n",
      "Epoch 59/500\n",
      "16/16 [==============================] - 0s 14ms/step - loss: 0.7325 - accuracy: 0.7469 - auc: 0.9708 - val_loss: 0.7022 - val_accuracy: 0.7678 - val_auc: 0.9684\n",
      "Epoch 60/500\n",
      "16/16 [==============================] - 0s 14ms/step - loss: 0.7313 - accuracy: 0.7467 - auc: 0.9706 - val_loss: 0.6947 - val_accuracy: 0.7633 - val_auc: 0.9695\n",
      "Epoch 61/500\n",
      "16/16 [==============================] - 0s 14ms/step - loss: 0.7206 - accuracy: 0.7530 - auc: 0.9714 - val_loss: 0.6851 - val_accuracy: 0.7743 - val_auc: 0.9701\n",
      "Epoch 62/500\n",
      "16/16 [==============================] - 0s 14ms/step - loss: 0.7161 - accuracy: 0.7475 - auc: 0.9724 - val_loss: 0.7060 - val_accuracy: 0.7648 - val_auc: 0.9692\n",
      "Epoch 63/500\n",
      "16/16 [==============================] - 0s 14ms/step - loss: 0.7191 - accuracy: 0.7494 - auc: 0.9716 - val_loss: 0.6937 - val_accuracy: 0.7698 - val_auc: 0.9696\n",
      "Epoch 64/500\n",
      "16/16 [==============================] - 0s 14ms/step - loss: 0.7091 - accuracy: 0.7539 - auc: 0.9724 - val_loss: 0.6964 - val_accuracy: 0.7708 - val_auc: 0.9690\n",
      "Epoch 65/500\n",
      "16/16 [==============================] - 0s 14ms/step - loss: 0.7113 - accuracy: 0.7593 - auc: 0.9724 - val_loss: 0.6954 - val_accuracy: 0.7693 - val_auc: 0.9705\n",
      "Epoch 66/500\n",
      "16/16 [==============================] - 0s 14ms/step - loss: 0.6927 - accuracy: 0.7625 - auc: 0.9739 - val_loss: 0.6799 - val_accuracy: 0.7793 - val_auc: 0.9708\n",
      "Epoch 67/500\n",
      "16/16 [==============================] - 0s 14ms/step - loss: 0.6930 - accuracy: 0.7638 - auc: 0.9737 - val_loss: 0.7242 - val_accuracy: 0.7538 - val_auc: 0.9675\n",
      "Epoch 68/500\n",
      "16/16 [==============================] - 0s 14ms/step - loss: 0.6955 - accuracy: 0.7624 - auc: 0.9735 - val_loss: 0.6855 - val_accuracy: 0.7753 - val_auc: 0.9701\n",
      "Epoch 69/500\n",
      "16/16 [==============================] - 0s 14ms/step - loss: 0.6964 - accuracy: 0.7608 - auc: 0.9734 - val_loss: 0.6720 - val_accuracy: 0.7843 - val_auc: 0.9714\n",
      "Epoch 70/500\n",
      "16/16 [==============================] - 0s 14ms/step - loss: 0.6901 - accuracy: 0.7621 - auc: 0.9742 - val_loss: 0.6725 - val_accuracy: 0.7863 - val_auc: 0.9715\n",
      "Epoch 71/500\n",
      "16/16 [==============================] - 0s 14ms/step - loss: 0.7005 - accuracy: 0.7581 - auc: 0.9730 - val_loss: 0.6655 - val_accuracy: 0.7858 - val_auc: 0.9718\n",
      "Epoch 72/500\n",
      "16/16 [==============================] - 0s 14ms/step - loss: 0.6886 - accuracy: 0.7623 - auc: 0.9737 - val_loss: 0.6599 - val_accuracy: 0.7903 - val_auc: 0.9715\n",
      "Epoch 73/500\n",
      "16/16 [==============================] - 0s 14ms/step - loss: 0.6840 - accuracy: 0.7681 - auc: 0.9742 - val_loss: 0.6574 - val_accuracy: 0.7828 - val_auc: 0.9721\n",
      "Epoch 74/500\n",
      "16/16 [==============================] - 0s 14ms/step - loss: 0.6687 - accuracy: 0.7721 - auc: 0.9756 - val_loss: 0.6713 - val_accuracy: 0.7803 - val_auc: 0.9716\n",
      "Epoch 75/500\n",
      "16/16 [==============================] - 0s 14ms/step - loss: 0.6737 - accuracy: 0.7671 - auc: 0.9751 - val_loss: 0.6636 - val_accuracy: 0.7828 - val_auc: 0.9721\n",
      "Epoch 76/500\n",
      "16/16 [==============================] - 0s 17ms/step - loss: 0.6709 - accuracy: 0.7679 - auc: 0.9754 - val_loss: 0.6665 - val_accuracy: 0.7788 - val_auc: 0.9724\n",
      "Epoch 77/500\n",
      "16/16 [==============================] - 0s 16ms/step - loss: 0.6644 - accuracy: 0.7699 - auc: 0.9758 - val_loss: 0.6508 - val_accuracy: 0.7863 - val_auc: 0.9737\n",
      "Epoch 78/500\n",
      "16/16 [==============================] - 0s 16ms/step - loss: 0.6648 - accuracy: 0.7713 - auc: 0.9757 - val_loss: 0.6530 - val_accuracy: 0.7873 - val_auc: 0.9730\n",
      "Epoch 79/500\n",
      "16/16 [==============================] - 0s 15ms/step - loss: 0.6614 - accuracy: 0.7729 - auc: 0.9757 - val_loss: 0.6489 - val_accuracy: 0.7873 - val_auc: 0.9743\n",
      "Epoch 80/500\n",
      "16/16 [==============================] - 0s 15ms/step - loss: 0.6519 - accuracy: 0.7745 - auc: 0.9768 - val_loss: 0.6634 - val_accuracy: 0.7858 - val_auc: 0.9718\n",
      "Epoch 81/500\n",
      "16/16 [==============================] - 0s 14ms/step - loss: 0.6581 - accuracy: 0.7755 - auc: 0.9760 - val_loss: 0.6940 - val_accuracy: 0.7738 - val_auc: 0.9698\n",
      "Epoch 82/500\n",
      "16/16 [==============================] - 0s 14ms/step - loss: 0.6543 - accuracy: 0.7788 - auc: 0.9764 - val_loss: 0.6712 - val_accuracy: 0.7793 - val_auc: 0.9713\n",
      "Epoch 83/500\n",
      "16/16 [==============================] - 0s 14ms/step - loss: 0.6513 - accuracy: 0.7792 - auc: 0.9768 - val_loss: 0.6647 - val_accuracy: 0.7858 - val_auc: 0.9722\n",
      "Epoch 84/500\n",
      "16/16 [==============================] - 0s 14ms/step - loss: 0.6471 - accuracy: 0.7817 - auc: 0.9771 - val_loss: 0.6525 - val_accuracy: 0.7868 - val_auc: 0.9729\n",
      "Epoch 85/500\n",
      "16/16 [==============================] - 0s 14ms/step - loss: 0.6478 - accuracy: 0.7813 - auc: 0.9768 - val_loss: 0.6821 - val_accuracy: 0.7763 - val_auc: 0.9710\n",
      "Epoch 86/500\n",
      "16/16 [==============================] - 0s 15ms/step - loss: 0.6541 - accuracy: 0.7785 - auc: 0.9762 - val_loss: 0.6436 - val_accuracy: 0.7843 - val_auc: 0.9737\n",
      "Epoch 87/500\n",
      "16/16 [==============================] - 0s 15ms/step - loss: 0.6402 - accuracy: 0.7795 - auc: 0.9774 - val_loss: 0.6741 - val_accuracy: 0.7698 - val_auc: 0.9721\n",
      "Epoch 88/500\n",
      "16/16 [==============================] - 0s 14ms/step - loss: 0.6228 - accuracy: 0.7882 - auc: 0.9791 - val_loss: 0.6636 - val_accuracy: 0.7893 - val_auc: 0.9723\n",
      "Epoch 89/500\n",
      "16/16 [==============================] - 0s 14ms/step - loss: 0.6312 - accuracy: 0.7827 - auc: 0.9781 - val_loss: 0.6453 - val_accuracy: 0.7868 - val_auc: 0.9740\n",
      "Epoch 90/500\n",
      "16/16 [==============================] - 0s 14ms/step - loss: 0.6195 - accuracy: 0.7899 - auc: 0.9788 - val_loss: 0.6711 - val_accuracy: 0.7708 - val_auc: 0.9724\n",
      "Epoch 91/500\n",
      "16/16 [==============================] - 0s 14ms/step - loss: 0.6225 - accuracy: 0.7862 - auc: 0.9787 - val_loss: 0.6544 - val_accuracy: 0.7828 - val_auc: 0.9726\n",
      "Epoch 92/500\n",
      "16/16 [==============================] - 0s 14ms/step - loss: 0.6186 - accuracy: 0.7932 - auc: 0.9791 - val_loss: 0.6257 - val_accuracy: 0.7923 - val_auc: 0.9750\n",
      "Epoch 93/500\n",
      "16/16 [==============================] - 0s 14ms/step - loss: 0.6264 - accuracy: 0.7843 - auc: 0.9782 - val_loss: 0.6576 - val_accuracy: 0.7838 - val_auc: 0.9736\n",
      "Epoch 94/500\n",
      "16/16 [==============================] - 0s 14ms/step - loss: 0.6181 - accuracy: 0.7832 - auc: 0.9790 - val_loss: 0.6578 - val_accuracy: 0.7798 - val_auc: 0.9730\n",
      "Epoch 95/500\n",
      "16/16 [==============================] - 0s 14ms/step - loss: 0.6336 - accuracy: 0.7797 - auc: 0.9776 - val_loss: 0.6723 - val_accuracy: 0.7763 - val_auc: 0.9716\n",
      "Epoch 96/500\n",
      "16/16 [==============================] - 0s 14ms/step - loss: 0.6213 - accuracy: 0.7832 - auc: 0.9786 - val_loss: 0.6561 - val_accuracy: 0.7898 - val_auc: 0.9732\n",
      "Epoch 97/500\n",
      "16/16 [==============================] - 0s 14ms/step - loss: 0.6050 - accuracy: 0.7910 - auc: 0.9800 - val_loss: 0.6437 - val_accuracy: 0.7858 - val_auc: 0.9734\n",
      "Epoch 98/500\n",
      "16/16 [==============================] - 0s 14ms/step - loss: 0.6203 - accuracy: 0.7838 - auc: 0.9787 - val_loss: 0.6632 - val_accuracy: 0.7783 - val_auc: 0.9725\n",
      "Epoch 99/500\n",
      "16/16 [==============================] - 0s 14ms/step - loss: 0.6153 - accuracy: 0.7867 - auc: 0.9792 - val_loss: 0.6321 - val_accuracy: 0.7893 - val_auc: 0.9731\n",
      "Epoch 100/500\n",
      "16/16 [==============================] - 0s 14ms/step - loss: 0.6139 - accuracy: 0.7885 - auc: 0.9792 - val_loss: 0.6140 - val_accuracy: 0.7958 - val_auc: 0.9760\n",
      "Epoch 101/500\n",
      "16/16 [==============================] - 0s 14ms/step - loss: 0.6044 - accuracy: 0.7925 - auc: 0.9799 - val_loss: 0.6180 - val_accuracy: 0.7943 - val_auc: 0.9754\n",
      "Epoch 102/500\n",
      "16/16 [==============================] - 0s 14ms/step - loss: 0.6056 - accuracy: 0.7912 - auc: 0.9798 - val_loss: 0.6272 - val_accuracy: 0.7933 - val_auc: 0.9745\n",
      "Epoch 103/500\n",
      "16/16 [==============================] - 0s 14ms/step - loss: 0.5921 - accuracy: 0.8003 - auc: 0.9810 - val_loss: 0.6368 - val_accuracy: 0.7833 - val_auc: 0.9744\n",
      "Epoch 104/500\n",
      "16/16 [==============================] - 0s 14ms/step - loss: 0.5955 - accuracy: 0.8006 - auc: 0.9803 - val_loss: 0.6370 - val_accuracy: 0.7863 - val_auc: 0.9738\n",
      "Epoch 105/500\n",
      "16/16 [==============================] - 0s 14ms/step - loss: 0.5919 - accuracy: 0.7939 - auc: 0.9806 - val_loss: 0.6364 - val_accuracy: 0.7888 - val_auc: 0.9743\n",
      "Epoch 106/500\n",
      "16/16 [==============================] - 0s 14ms/step - loss: 0.6080 - accuracy: 0.7873 - auc: 0.9794 - val_loss: 0.6379 - val_accuracy: 0.7958 - val_auc: 0.9743\n",
      "Epoch 107/500\n",
      "16/16 [==============================] - 0s 14ms/step - loss: 0.5907 - accuracy: 0.7979 - auc: 0.9808 - val_loss: 0.6278 - val_accuracy: 0.7903 - val_auc: 0.9747\n",
      "Epoch 108/500\n",
      "16/16 [==============================] - 0s 14ms/step - loss: 0.5880 - accuracy: 0.8026 - auc: 0.9809 - val_loss: 0.6245 - val_accuracy: 0.7938 - val_auc: 0.9753\n",
      "Epoch 109/500\n",
      "16/16 [==============================] - 0s 14ms/step - loss: 0.5869 - accuracy: 0.7990 - auc: 0.9810 - val_loss: 0.6193 - val_accuracy: 0.7988 - val_auc: 0.9751\n",
      "Epoch 110/500\n",
      "16/16 [==============================] - 0s 14ms/step - loss: 0.5819 - accuracy: 0.8004 - auc: 0.9814 - val_loss: 0.5978 - val_accuracy: 0.8113 - val_auc: 0.9758\n",
      "Epoch 111/500\n",
      "16/16 [==============================] - 0s 14ms/step - loss: 0.5768 - accuracy: 0.8034 - auc: 0.9817 - val_loss: 0.6275 - val_accuracy: 0.7938 - val_auc: 0.9746\n",
      "Epoch 112/500\n",
      "16/16 [==============================] - 0s 14ms/step - loss: 0.5791 - accuracy: 0.7989 - auc: 0.9815 - val_loss: 0.6162 - val_accuracy: 0.7973 - val_auc: 0.9756\n",
      "Epoch 113/500\n",
      "16/16 [==============================] - 0s 14ms/step - loss: 0.5845 - accuracy: 0.7980 - auc: 0.9809 - val_loss: 0.6214 - val_accuracy: 0.7948 - val_auc: 0.9752\n",
      "Epoch 114/500\n",
      "16/16 [==============================] - 0s 14ms/step - loss: 0.5860 - accuracy: 0.7979 - auc: 0.9811 - val_loss: 0.6300 - val_accuracy: 0.7938 - val_auc: 0.9745\n",
      "Epoch 115/500\n",
      "16/16 [==============================] - 0s 14ms/step - loss: 0.5757 - accuracy: 0.8048 - auc: 0.9816 - val_loss: 0.6111 - val_accuracy: 0.8028 - val_auc: 0.9754\n",
      "Epoch 116/500\n",
      "16/16 [==============================] - 0s 14ms/step - loss: 0.5891 - accuracy: 0.8011 - auc: 0.9804 - val_loss: 0.6393 - val_accuracy: 0.7818 - val_auc: 0.9732\n",
      "Epoch 117/500\n",
      "16/16 [==============================] - 0s 14ms/step - loss: 0.5832 - accuracy: 0.7977 - auc: 0.9811 - val_loss: 0.6247 - val_accuracy: 0.7978 - val_auc: 0.9750\n",
      "Epoch 118/500\n",
      "16/16 [==============================] - 0s 14ms/step - loss: 0.5594 - accuracy: 0.8053 - auc: 0.9828 - val_loss: 0.6141 - val_accuracy: 0.8033 - val_auc: 0.9758\n",
      "Epoch 119/500\n",
      "16/16 [==============================] - 0s 14ms/step - loss: 0.5869 - accuracy: 0.7939 - auc: 0.9807 - val_loss: 0.5960 - val_accuracy: 0.8073 - val_auc: 0.9768\n",
      "Epoch 120/500\n",
      "16/16 [==============================] - 0s 14ms/step - loss: 0.5664 - accuracy: 0.8037 - auc: 0.9821 - val_loss: 0.6433 - val_accuracy: 0.7888 - val_auc: 0.9736\n",
      "Epoch 121/500\n",
      "16/16 [==============================] - 0s 14ms/step - loss: 0.5639 - accuracy: 0.8033 - auc: 0.9825 - val_loss: 0.6176 - val_accuracy: 0.7953 - val_auc: 0.9746\n",
      "Epoch 122/500\n",
      "16/16 [==============================] - 0s 14ms/step - loss: 0.5621 - accuracy: 0.8071 - auc: 0.9822 - val_loss: 0.5947 - val_accuracy: 0.8038 - val_auc: 0.9760\n",
      "Epoch 123/500\n",
      "16/16 [==============================] - 0s 14ms/step - loss: 0.5571 - accuracy: 0.8128 - auc: 0.9828 - val_loss: 0.5997 - val_accuracy: 0.8113 - val_auc: 0.9754\n",
      "Epoch 124/500\n",
      "16/16 [==============================] - 0s 14ms/step - loss: 0.5575 - accuracy: 0.8088 - auc: 0.9827 - val_loss: 0.6085 - val_accuracy: 0.8108 - val_auc: 0.9760\n",
      "Epoch 125/500\n",
      "16/16 [==============================] - 0s 14ms/step - loss: 0.5692 - accuracy: 0.8038 - auc: 0.9819 - val_loss: 0.6397 - val_accuracy: 0.7928 - val_auc: 0.9733\n",
      "Epoch 126/500\n",
      "16/16 [==============================] - 0s 14ms/step - loss: 0.5722 - accuracy: 0.8033 - auc: 0.9819 - val_loss: 0.6078 - val_accuracy: 0.8013 - val_auc: 0.9754\n",
      "Epoch 127/500\n",
      "16/16 [==============================] - 0s 14ms/step - loss: 0.5613 - accuracy: 0.8106 - auc: 0.9822 - val_loss: 0.5891 - val_accuracy: 0.8053 - val_auc: 0.9774\n",
      "Epoch 128/500\n",
      "16/16 [==============================] - 0s 14ms/step - loss: 0.5538 - accuracy: 0.8092 - auc: 0.9831 - val_loss: 0.6192 - val_accuracy: 0.7938 - val_auc: 0.9753\n",
      "Epoch 129/500\n",
      "16/16 [==============================] - 0s 14ms/step - loss: 0.5529 - accuracy: 0.8139 - auc: 0.9829 - val_loss: 0.6143 - val_accuracy: 0.8093 - val_auc: 0.9752\n",
      "Epoch 130/500\n",
      "16/16 [==============================] - 0s 14ms/step - loss: 0.5509 - accuracy: 0.8089 - auc: 0.9832 - val_loss: 0.6047 - val_accuracy: 0.8063 - val_auc: 0.9759\n"
     ]
    }
   ],
   "source": [
    "es = EarlyStopping(\n",
    "    monitor='val_accuracy', restore_best_weights=True, patience=20, min_delta = 0.001\n",
    ")\n",
    "\n",
    "history = model.fit(\n",
    "    np.array(X_train).reshape(7992, 1, 20),\n",
    "    np.array(y_train),\n",
    "    epochs=500,\n",
    "    callbacks = [es],\n",
    "    shuffle = True,\n",
    "    batch_size = 512,\n",
    "    validation_data = (\n",
    "        np.array(X_test).reshape(1998,1,20),\n",
    "        np.array(y_test)\n",
    "    )\n",
    ")\n",
    "model.save('LSTM')"
   ]
  },
  {
   "cell_type": "code",
   "execution_count": 16,
   "id": "9ad87e94",
   "metadata": {
    "execution": {
     "iopub.execute_input": "2023-11-26T10:39:00.377736Z",
     "iopub.status.busy": "2023-11-26T10:39:00.376827Z",
     "iopub.status.idle": "2023-11-26T10:39:00.978003Z",
     "shell.execute_reply": "2023-11-26T10:39:00.976988Z"
    },
    "papermill": {
     "duration": 0.663219,
     "end_time": "2023-11-26T10:39:00.980685",
     "exception": false,
     "start_time": "2023-11-26T10:39:00.317466",
     "status": "completed"
    },
    "tags": []
   },
   "outputs": [
    {
     "data": {
      "image/png": "[encoded data removed]",
      "text/plain": [
       "<Figure size 864x432 with 3 Axes>"
      ]
     },
     "metadata": {
      "needs_background": "light"
     },
     "output_type": "display_data"
    }
   ],
   "source": [
    "fig, (ax1, ax2, ax3) = plt.subplots(3,1, figsize=(12,6))\n",
    "ax2.plot(history.history['loss'], color='orange', label='Loss')\n",
    "ax2.plot(history.history['val_loss'], color='blue', label='val_loss')\n",
    "ax2.legend(loc='upper right')\n",
    "ax1.plot(history.history['accuracy'], label='Accuracy', color='orange')\n",
    "ax1.plot(history.history['val_accuracy'], label='val_accuracy', color='blue')\n",
    "ax1.legend(loc=\"upper right\")\n",
    "ax1.set_title(\"Model-Accuracy w.r.t Epochs\", loc='center')\n",
    "plt.xlabel(\"Epochs\")\n",
    "plt.ylabel(\"Loss\")\n",
    "ax1.set_xlabel(\"Epoch\")\n",
    "ax1.set_ylabel(\"Accuracy\")\n",
    "ax3.plot(history.history['auc'], color='orange', label='AUC')\n",
    "ax3.plot(history.history['val_auc'], color='blue', label='val_auc')\n",
    "ax3.set_xlabel(\"Epoch\")\n",
    "ax3.set_ylabel(\"AUC\")\n",
    "ax3.legend(loc='upper right')\n",
    "plt.savefig('model_acc_LSTM_GTZAN.png')\n",
    "# ax3.set_title(\"AUC of model w.r.t Epochs\", loc='center')"
   ]
  },
  {
   "cell_type": "code",
   "execution_count": 17,
   "id": "785a5074",
   "metadata": {
    "execution": {
     "iopub.execute_input": "2023-11-26T10:39:01.096809Z",
     "iopub.status.busy": "2023-11-26T10:39:01.096212Z",
     "iopub.status.idle": "2023-11-26T10:39:01.935802Z",
     "shell.execute_reply": "2023-11-26T10:39:01.934814Z"
    },
    "papermill": {
     "duration": 0.900056,
     "end_time": "2023-11-26T10:39:01.938148",
     "exception": false,
     "start_time": "2023-11-26T10:39:01.038092",
     "status": "completed"
    },
    "tags": []
   },
   "outputs": [
    {
     "data": {
      "text/plain": [
       "(9990, 10)"
      ]
     },
     "execution_count": 17,
     "metadata": {},
     "output_type": "execute_result"
    }
   ],
   "source": [
    "y_pred = model.predict(np.array(x).reshape(9990, 1,20))\n",
    "\n",
    "y_pred_classes = np.argmax(y_pred, axis=1)\n",
    "\n",
    "y_pred.shape"
   ]
  },
  {
   "cell_type": "code",
   "execution_count": 18,
   "id": "41c172cb",
   "metadata": {
    "execution": {
     "iopub.execute_input": "2023-11-26T10:39:02.054671Z",
     "iopub.status.busy": "2023-11-26T10:39:02.054069Z",
     "iopub.status.idle": "2023-11-26T10:39:02.061407Z",
     "shell.execute_reply": "2023-11-26T10:39:02.060419Z"
    },
    "papermill": {
     "duration": 0.067686,
     "end_time": "2023-11-26T10:39:02.063442",
     "exception": false,
     "start_time": "2023-11-26T10:39:01.995756",
     "status": "completed"
    },
    "tags": []
   },
   "outputs": [
    {
     "data": {
      "text/plain": [
       "array([0, 0, 0, ..., 9, 9, 9])"
      ]
     },
     "execution_count": 18,
     "metadata": {},
     "output_type": "execute_result"
    }
   ],
   "source": [
    "y_true = np.argmax(np.array(y_new), axis=1)\n",
    "\n",
    "y_true"
   ]
  },
  {
   "cell_type": "code",
   "execution_count": 19,
   "id": "acfc0383",
   "metadata": {
    "execution": {
     "iopub.execute_input": "2023-11-26T10:39:02.180801Z",
     "iopub.status.busy": "2023-11-26T10:39:02.179855Z",
     "iopub.status.idle": "2023-11-26T10:39:02.200975Z",
     "shell.execute_reply": "2023-11-26T10:39:02.199960Z"
    },
    "papermill": {
     "duration": 0.081824,
     "end_time": "2023-11-26T10:39:02.203054",
     "exception": false,
     "start_time": "2023-11-26T10:39:02.121230",
     "status": "completed"
    },
    "tags": []
   },
   "outputs": [
    {
     "name": "stdout",
     "output_type": "stream",
     "text": [
      "0.8800800800800801\n",
      "tf.Tensor(0.99042857, shape=(), dtype=float32)\n"
     ]
    }
   ],
   "source": [
    "print(np.mean(y_pred_classes == y_true))\n",
    "m = AUC()\n",
    "m.update_state(y_new, y_pred)\n",
    "print(m.result())"
   ]
  },
  {
   "cell_type": "code",
   "execution_count": 20,
   "id": "2cf12b4f",
   "metadata": {
    "execution": {
     "iopub.execute_input": "2023-11-26T10:39:02.321989Z",
     "iopub.status.busy": "2023-11-26T10:39:02.321625Z",
     "iopub.status.idle": "2023-11-26T10:39:03.353392Z",
     "shell.execute_reply": "2023-11-26T10:39:03.352370Z"
    },
    "papermill": {
     "duration": 1.095254,
     "end_time": "2023-11-26T10:39:03.355783",
     "exception": false,
     "start_time": "2023-11-26T10:39:02.260529",
     "status": "completed"
    },
    "tags": []
   },
   "outputs": [
    {
     "data": {
      "text/plain": [
       "<Figure size 432x288 with 0 Axes>"
      ]
     },
     "metadata": {},
     "output_type": "display_data"
    },
    {
     "data": {
      "image/png": "[encoded data removed]",
      "text/plain": [
       "<Figure size 864x864 with 2 Axes>"
      ]
     },
     "metadata": {
      "needs_background": "light"
     },
     "output_type": "display_data"
    }
   ],
   "source": [
    "from sklearn.metrics import confusion_matrix\n",
    "cm = confusion_matrix(y_pred_classes, y_true,)\n",
    "import itertools\n",
    "plt.clf()\n",
    "fig = plt.figure(figsize = (12,12)) \n",
    "ax = fig.add_subplot(111)\n",
    "ax.set_aspect(1)\n",
    "plt.imshow(cm, cmap = plt.cm.Blues, interpolation='nearest')\n",
    "\n",
    "plt.title(\"Confusion Matrix\")\n",
    "plt.colorbar()\n",
    "tick_marks = np.arange(len(range(10)))\n",
    "plt.xticks(tick_marks, range(10), rotation=45)\n",
    "plt.yticks(tick_marks, range(10))\n",
    "thresh = cm.max()/2\n",
    "for i, j in itertools.product(range(cm.shape[0]), range(cm.shape[1])):\n",
    "    plt.text(j, i , cm[i,j], horizontalalignment=\"center\", color=\"white\" if cm[i,j]>thresh else \"black\")\n",
    "\n",
    "plt.tight_layout()\n",
    "plt.ylabel(\"True Label\")\n",
    "plt.xlabel(\"Predicted Label\")\n",
    "plt.savefig('con_matrix_LSTM_GTZAN.png')"
   ]
  }
 ],
 "metadata": {
  "kaggle": {
   "accelerator": "gpu",
   "dataSources": [
    {
     "datasetId": 568973,
     "sourceId": 1032238,
     "sourceType": "datasetVersion"
    }
   ],
   "dockerImageVersionId": 30302,
   "isGpuEnabled": true,
   "isInternetEnabled": true,
   "language": "python",
   "sourceType": "notebook"
  },
  "kernelspec": {
   "display_name": "Python 3",
   "language": "python",
   "name": "python3"
  },
  "language_info": {
   "codemirror_mode": {
    "name": "ipython",
    "version": 3
   },
   "file_extension": ".py",
   "mimetype": "text/x-python",
   "name": "python",
   "nbconvert_exporter": "python",
   "pygments_lexer": "ipython3",
   "version": "3.7.12"
  },
  "papermill": {
   "default_parameters": {},
   "duration": 72.410526,
   "end_time": "2023-11-26T10:39:06.724624",
   "environment_variables": {},
   "exception": null,
   "input_path": "__notebook__.ipynb",
   "output_path": "__notebook__.ipynb",
   "parameters": {},
   "start_time": "2023-11-26T10:37:54.314098",
   "version": "2.3.4"
  }
 },
 "nbformat": 4,
 "nbformat_minor": 5
}
